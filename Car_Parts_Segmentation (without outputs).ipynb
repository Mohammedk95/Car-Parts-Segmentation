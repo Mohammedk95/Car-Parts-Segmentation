{
  "nbformat": 4,
  "nbformat_minor": 0,
  "metadata": {
    "colab": {
      "provenance": [],
      "machine_shape": "hm",
      "gpuType": "A100"
    },
    "kernelspec": {
      "name": "python3",
      "display_name": "Python 3"
    },
    "language_info": {
      "name": "python"
    },
    "accelerator": "GPU"
  },
  "cells": [
    {
      "cell_type": "markdown",
      "source": [
        "### Step 1: Install Ultralytics Library\n",
        "This cell installs the Ultralytics library, which is required for training and inference with YOLO models. The `-q` flag ensures the installation is quiet, avoiding unnecessary output."
      ],
      "metadata": {
        "id": "9XfITJbUh9Ss"
      }
    },
    {
      "cell_type": "code",
      "source": [
        "!pip install ultralytics -q"
      ],
      "metadata": {
        "collapsed": true,
        "id": "ngi_weP3XBxf"
      },
      "execution_count": null,
      "outputs": []
    },
    {
      "cell_type": "markdown",
      "source": [
        "### Step 2: Train the Segmentation Model\n",
        "This cell loads a pre-trained YOLOv8 Nano segmentation model (`yolov8n-seg.pt`) and fine-tunes it on a custom dataset defined in `carparts-seg.yaml`.\n",
        "\n",
        "#### Improvements:\n",
        "1. **Added `project` and `name`**: Organizes training outputs into a specific folder.\n",
        "2. **Added `batch`**: Specifies the batch size for training.\n",
        "3. **Added `workers`**: Speeds up data loading by using multiple workers.\n",
        "4. **Added `device`**: Ensures training uses GPU if available."
      ],
      "metadata": {
        "id": "Xisv7bO-iFr3"
      }
    },
    {
      "cell_type": "code",
      "source": [
        "from ultralytics import YOLO\n",
        "\n",
        "# Load a pre-trained YOLO segmentation model\n",
        "model = YOLO(\"yolov8n-seg.pt\")  # Use a pre-trained YOLOv8 Nano segmentation model\n",
        "\n",
        "# Train the model\n",
        "results = model.train(\n",
        "    data=\"carparts-seg.yaml\",  # Path to your dataset configuration file\n",
        "    epochs=60,                # Number of training epochs\n",
        "    imgsz=640,                # Image size for training\n",
        "    batch=16,                 # Batch size for training\n",
        "    workers=4,                # Number of data loading workers\n",
        "    device=\"0\",               # Use GPU (if available)\n",
        "    project=\"carparts-seg\",   # Save results in a specific project folder\n",
        ")"
      ],
      "metadata": {
        "id": "TI3qqC67hYaI"
      },
      "execution_count": null,
      "outputs": []
    },
    {
      "cell_type": "markdown",
      "source": [
        "### Step 3: Validate the Model\n",
        "This cell validates the trained model on the validation set to evaluate its performance. Metrics such as mAP (mean Average Precision), precision, and recall are printed.\n",
        "\n",
        "#### Improvements:\n",
        "1. **Added `split`**: Explicitly specifies the validation split.\n",
        "2. **Added `conf`**: Sets a confidence threshold for validation."
      ],
      "metadata": {
        "id": "0iyzSS9FiX-7"
      }
    },
    {
      "cell_type": "code",
      "source": [
        "# Validate the model\n",
        "metrics = model.val(\n",
        "    split=\"val\",  # Validate on the validation set\n",
        "    conf=0.5,    # Confidence threshold for validation\n",
        ")\n",
        "print(metrics)   # Print evaluation metrics (mAP, precision, recall, etc.)"
      ],
      "metadata": {
        "id": "e0WTdTYnhhUn"
      },
      "execution_count": null,
      "outputs": []
    },
    {
      "cell_type": "markdown",
      "source": [
        "### Step 4: Mount Google Drive\n",
        "This cell mounts Google Drive to access external images stored in Predict Images for prediction."
      ],
      "metadata": {
        "id": "vtbwuRkLillM"
      }
    },
    {
      "cell_type": "code",
      "source": [
        "# Mount Google Drive to access the dataset for the predicted images (outside images)\n",
        "from google.colab import drive\n",
        "drive.mount('/content/drive')"
      ],
      "metadata": {
        "id": "Xg1gnqf2inmL"
      },
      "execution_count": null,
      "outputs": []
    },
    {
      "cell_type": "markdown",
      "source": [
        "### Step 5: Predict on External Images\n",
        "This cell loads the best-trained model (`best.pt`) and uses it to predict on external images stored in Google Drive. The images are resized to 640x640 pixels before prediction.\n",
        "\n",
        "#### Improvements:\n",
        "1. **Added `project` and `name`**: Organizes prediction outputs into a specific folder.\n",
        "2. **Added `batch`**: Processes multiple images at once for faster inference.\n",
        "3. **Added `device`**: Ensures prediction uses GPU if available.\n",
        "4. **Added `exist_ok`**: Prevents errors if the output folder already exists."
      ],
      "metadata": {
        "id": "5iLelDfRixEk"
      }
    },
    {
      "cell_type": "code",
      "source": [
        "# Load the best trained model\n",
        "best_model = YOLO(\"carparts-seg/train/weights/best.pt\")  # Path to your trained model\n",
        "\n",
        "# Path to the folder containing images for prediction\n",
        "predict_images_path = \"/content/drive/MyDrive/Predict Images/\"\n",
        "\n",
        "# Predict on images with resizing\n",
        "results = best_model.predict(\n",
        "    source=predict_images_path,  # Path to the folder with images\n",
        "    imgsz=640,                  # Resize images to 640x640 before prediction\n",
        "    save=True,                  # Save the prediction results\n",
        "    save_txt=True,             # Save the prediction labels (optional)\n",
        "    conf=0.5,                  # Confidence threshold (optional)\n",
        "    batch=8,                   # Process 8 images at a time\n",
        "    device=\"0\",                # Use GPU (if available)\n",
        "    project=\"carparts-seg\",    # Save results in a specific project folder\n",
        "    name=\"predict-v1\",         # Name of the prediction run\n",
        "    exist_ok=True,             # Overwrite existing files if needed\n",
        ")\n",
        "\n",
        "# Display results\n",
        "for result in results:\n",
        "    result.show()  # Show the prediction results"
      ],
      "metadata": {
        "id": "J4vhbY_drVbX"
      },
      "execution_count": null,
      "outputs": []
    }
  ]
}